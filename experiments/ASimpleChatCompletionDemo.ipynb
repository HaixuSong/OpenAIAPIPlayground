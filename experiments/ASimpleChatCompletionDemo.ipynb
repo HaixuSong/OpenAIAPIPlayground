{
 "cells": [
  {
   "cell_type": "code",
   "execution_count": 1,
   "id": "9cd2a38a-2f49-4fb7-9841-5305600733b6",
   "metadata": {},
   "outputs": [
    {
     "name": "stdout",
     "output_type": "stream",
     "text": [
      "Python 3.11.6\n"
     ]
    }
   ],
   "source": [
    "!python --version"
   ]
  },
  {
   "cell_type": "code",
   "execution_count": 2,
   "id": "463d9dff-ad5e-40aa-9ba4-c7d810809d0e",
   "metadata": {
    "scrolled": true
   },
   "outputs": [
    {
     "name": "stdout",
     "output_type": "stream",
     "text": [
      "Requirement already satisfied: openai in c:\\users\\hitsh\\onedrive\\desktop\\experimentai\\myenv\\lib\\site-packages (1.3.3)\n",
      "Requirement already satisfied: anyio<4,>=3.5.0 in c:\\users\\hitsh\\onedrive\\desktop\\experimentai\\myenv\\lib\\site-packages (from openai) (3.7.1)\n",
      "Requirement already satisfied: distro<2,>=1.7.0 in c:\\users\\hitsh\\onedrive\\desktop\\experimentai\\myenv\\lib\\site-packages (from openai) (1.8.0)\n",
      "Requirement already satisfied: httpx<1,>=0.23.0 in c:\\users\\hitsh\\onedrive\\desktop\\experimentai\\myenv\\lib\\site-packages (from openai) (0.25.1)\n",
      "Requirement already satisfied: pydantic<3,>=1.9.0 in c:\\users\\hitsh\\onedrive\\desktop\\experimentai\\myenv\\lib\\site-packages (from openai) (2.5.1)\n",
      "Requirement already satisfied: tqdm>4 in c:\\users\\hitsh\\onedrive\\desktop\\experimentai\\myenv\\lib\\site-packages (from openai) (4.66.1)\n",
      "Requirement already satisfied: typing-extensions<5,>=4.5 in c:\\users\\hitsh\\onedrive\\desktop\\experimentai\\myenv\\lib\\site-packages (from openai) (4.8.0)\n",
      "Requirement already satisfied: idna>=2.8 in c:\\users\\hitsh\\onedrive\\desktop\\experimentai\\myenv\\lib\\site-packages (from anyio<4,>=3.5.0->openai) (3.4)\n",
      "Requirement already satisfied: sniffio>=1.1 in c:\\users\\hitsh\\onedrive\\desktop\\experimentai\\myenv\\lib\\site-packages (from anyio<4,>=3.5.0->openai) (1.3.0)\n",
      "Requirement already satisfied: certifi in c:\\users\\hitsh\\onedrive\\desktop\\experimentai\\myenv\\lib\\site-packages (from httpx<1,>=0.23.0->openai) (2023.11.17)\n",
      "Requirement already satisfied: httpcore in c:\\users\\hitsh\\onedrive\\desktop\\experimentai\\myenv\\lib\\site-packages (from httpx<1,>=0.23.0->openai) (1.0.2)\n",
      "Requirement already satisfied: annotated-types>=0.4.0 in c:\\users\\hitsh\\onedrive\\desktop\\experimentai\\myenv\\lib\\site-packages (from pydantic<3,>=1.9.0->openai) (0.6.0)\n",
      "Requirement already satisfied: pydantic-core==2.14.3 in c:\\users\\hitsh\\onedrive\\desktop\\experimentai\\myenv\\lib\\site-packages (from pydantic<3,>=1.9.0->openai) (2.14.3)\n",
      "Requirement already satisfied: colorama in c:\\users\\hitsh\\onedrive\\desktop\\experimentai\\myenv\\lib\\site-packages (from tqdm>4->openai) (0.4.6)\n",
      "Requirement already satisfied: h11<0.15,>=0.13 in c:\\users\\hitsh\\onedrive\\desktop\\experimentai\\myenv\\lib\\site-packages (from httpcore->httpx<1,>=0.23.0->openai) (0.14.0)\n"
     ]
    },
    {
     "name": "stderr",
     "output_type": "stream",
     "text": [
      "\n",
      "[notice] A new release of pip is available: 23.2.1 -> 23.3.1\n",
      "[notice] To update, run: python.exe -m pip install --upgrade pip\n",
      "ERROR: Could not find a version that satisfies the requirement pprint (from versions: none)\n",
      "ERROR: No matching distribution found for pprint\n",
      "\n",
      "[notice] A new release of pip is available: 23.2.1 -> 23.3.1\n",
      "[notice] To update, run: python.exe -m pip install --upgrade pip\n"
     ]
    }
   ],
   "source": [
    "!pip install openai\n",
    "!pip install pprint"
   ]
  },
  {
   "cell_type": "code",
   "execution_count": 3,
   "id": "6e4aedd4-b48d-45c4-807e-2d8c2fb1288f",
   "metadata": {},
   "outputs": [],
   "source": [
    "# # set openAI API key\n",
    "# import os\n",
    "# os.environ[\"OPENAI_API_KEY\"] = \"xxx\""
   ]
  },
  {
   "cell_type": "code",
   "execution_count": 2,
   "id": "a0099ede-63aa-47f5-a0f1-823725fd121b",
   "metadata": {},
   "outputs": [],
   "source": [
    "# an example of text completion\n",
    "from openai import OpenAI\n",
    "client = OpenAI()\n",
    "\n",
    "response = client.chat.completions.create(\n",
    "    model=\"gpt-4-1106-preview\",\n",
    "    messages=[\n",
    "        {\"role\": \"system\", \"content\": \"You are a helpful assistant.\"},\n",
    "        {\"role\": \"user\", \"content\": \"Who won the world series in 2020?\"},\n",
    "        {\"role\": \"assistant\", \"content\": \"The Los Angeles Dodgers won the World Series in 2020.\"},\n",
    "        {\"role\": \"user\", \"content\": \"Where was it played?\"}\n",
    "    ]\n",
    ");"
   ]
  },
  {
   "cell_type": "code",
   "execution_count": 3,
   "id": "458cba92-8fc9-4525-8543-4b3a91175596",
   "metadata": {},
   "outputs": [
    {
     "data": {
      "text/plain": [
       "\"The 2020 World Series was played at Globe Life Field in Arlington, Texas. This marked the first time in the Series' history that all games were played at a neutral site. The decision to use a single location was made in response to the COVID-19 pandemic to mitigate risks associated with travel and to ensure a controlled environment.\""
      ]
     },
     "execution_count": 3,
     "metadata": {},
     "output_type": "execute_result"
    }
   ],
   "source": [
    "response.choices[0].message.content"
   ]
  },
  {
   "cell_type": "code",
   "execution_count": 6,
   "id": "81cd53e5-061d-4984-a233-2f81bab10a88",
   "metadata": {
    "scrolled": true
   },
   "outputs": [
    {
     "data": {
      "text/plain": [
       "['__abstractmethods__',\n",
       " '__annotations__',\n",
       " '__class__',\n",
       " '__class_getitem__',\n",
       " '__class_vars__',\n",
       " '__copy__',\n",
       " '__deepcopy__',\n",
       " '__delattr__',\n",
       " '__dict__',\n",
       " '__dir__',\n",
       " '__doc__',\n",
       " '__eq__',\n",
       " '__fields__',\n",
       " '__fields_set__',\n",
       " '__format__',\n",
       " '__ge__',\n",
       " '__get_pydantic_core_schema__',\n",
       " '__get_pydantic_json_schema__',\n",
       " '__getattr__',\n",
       " '__getattribute__',\n",
       " '__getstate__',\n",
       " '__gt__',\n",
       " '__hash__',\n",
       " '__init__',\n",
       " '__init_subclass__',\n",
       " '__iter__',\n",
       " '__le__',\n",
       " '__lt__',\n",
       " '__module__',\n",
       " '__ne__',\n",
       " '__new__',\n",
       " '__pretty__',\n",
       " '__private_attributes__',\n",
       " '__pydantic_complete__',\n",
       " '__pydantic_core_schema__',\n",
       " '__pydantic_custom_init__',\n",
       " '__pydantic_decorators__',\n",
       " '__pydantic_extra__',\n",
       " '__pydantic_fields_set__',\n",
       " '__pydantic_generic_metadata__',\n",
       " '__pydantic_init_subclass__',\n",
       " '__pydantic_parent_namespace__',\n",
       " '__pydantic_post_init__',\n",
       " '__pydantic_private__',\n",
       " '__pydantic_root_model__',\n",
       " '__pydantic_serializer__',\n",
       " '__pydantic_validator__',\n",
       " '__reduce__',\n",
       " '__reduce_ex__',\n",
       " '__repr__',\n",
       " '__repr_args__',\n",
       " '__repr_name__',\n",
       " '__repr_str__',\n",
       " '__rich_repr__',\n",
       " '__setattr__',\n",
       " '__setstate__',\n",
       " '__signature__',\n",
       " '__sizeof__',\n",
       " '__slots__',\n",
       " '__str__',\n",
       " '__subclasshook__',\n",
       " '__weakref__',\n",
       " '_abc_impl',\n",
       " '_calculate_keys',\n",
       " '_check_frozen',\n",
       " '_copy_and_set_values',\n",
       " '_get_value',\n",
       " '_iter',\n",
       " 'choices',\n",
       " 'construct',\n",
       " 'copy',\n",
       " 'created',\n",
       " 'dict',\n",
       " 'from_orm',\n",
       " 'id',\n",
       " 'json',\n",
       " 'model',\n",
       " 'model_computed_fields',\n",
       " 'model_config',\n",
       " 'model_construct',\n",
       " 'model_copy',\n",
       " 'model_dump',\n",
       " 'model_dump_json',\n",
       " 'model_extra',\n",
       " 'model_fields',\n",
       " 'model_fields_set',\n",
       " 'model_json_schema',\n",
       " 'model_parametrized_name',\n",
       " 'model_post_init',\n",
       " 'model_rebuild',\n",
       " 'model_validate',\n",
       " 'model_validate_json',\n",
       " 'model_validate_strings',\n",
       " 'object',\n",
       " 'parse_file',\n",
       " 'parse_obj',\n",
       " 'parse_raw',\n",
       " 'schema',\n",
       " 'schema_json',\n",
       " 'system_fingerprint',\n",
       " 'update_forward_refs',\n",
       " 'usage',\n",
       " 'validate']"
      ]
     },
     "execution_count": 6,
     "metadata": {},
     "output_type": "execute_result"
    }
   ],
   "source": [
    "dir(response)"
   ]
  },
  {
   "cell_type": "code",
   "execution_count": 7,
   "id": "c35147c8-a8ca-48fd-a3e2-c84b24e6ec3b",
   "metadata": {},
   "outputs": [
    {
     "name": "stdout",
     "output_type": "stream",
     "text": [
      "{'choices': [{'finish_reason': 'stop',\n",
      "              'index': 0,\n",
      "              'message': {'content': 'The 2020 World Series was played at '\n",
      "                                     'Globe Life Field in Arlington, Texas. '\n",
      "                                     'This was a significant departure from '\n",
      "                                     'the traditional format due to the '\n",
      "                                     'COVID-19 pandemic. To reduce travel and '\n",
      "                                     'potential virus transmission, Major '\n",
      "                                     'League Baseball decided to hold the '\n",
      "                                     'series at a neutral location for the '\n",
      "                                     'first time. Globe Life Field, home of '\n",
      "                                     'the Texas Rangers, hosted the series, '\n",
      "                                     'which was played between the Los Angeles '\n",
      "                                     'Dodgers and the Tampa Bay Rays. The '\n",
      "                                     'Dodgers won the series in six games to '\n",
      "                                     'capture their first championship since '\n",
      "                                     '1988.',\n",
      "                          'function_call': None,\n",
      "                          'role': 'assistant',\n",
      "                          'tool_calls': None}}],\n",
      " 'created': 1700359902,\n",
      " 'id': 'chatcmpl-8MRZel35hNlzmHEP2bXwkVoa15XNZ',\n",
      " 'model': 'gpt-4-1106-preview',\n",
      " 'object': 'chat.completion',\n",
      " 'system_fingerprint': 'fp_a24b4d720c',\n",
      " 'usage': {'completion_tokens': 105, 'prompt_tokens': 53, 'total_tokens': 158}}\n"
     ]
    }
   ],
   "source": [
    "import pprint\n",
    "pprint.pprint(response.model_dump())"
   ]
  },
  {
   "cell_type": "code",
   "execution_count": 24,
   "id": "b0de2785-bc7c-483b-bf14-f9fd5d627d11",
   "metadata": {},
   "outputs": [
    {
     "data": {
      "text/plain": [
       "'The 2020 World Series was played at Globe Life Field in Arlington, Texas. This was a significant departure from the traditional format due to the COVID-19 pandemic. To reduce travel and potential virus transmission, Major League Baseball decided to hold the series at a neutral location for the first time. Globe Life Field, home of the Texas Rangers, hosted the series, which was played between the Los Angeles Dodgers and the Tampa Bay Rays. The Dodgers won the series in six games to capture their first championship since 1988.'"
      ]
     },
     "execution_count": 24,
     "metadata": {},
     "output_type": "execute_result"
    }
   ],
   "source": [
    "(response.choices[0].message.content)"
   ]
  },
  {
   "cell_type": "code",
   "execution_count": null,
   "id": "1eab5491-6766-4961-9b05-e61125f694ec",
   "metadata": {},
   "outputs": [],
   "source": []
  }
 ],
 "metadata": {
  "kernelspec": {
   "display_name": "Python 3 (ipykernel)",
   "language": "python",
   "name": "python3"
  },
  "language_info": {
   "codemirror_mode": {
    "name": "ipython",
    "version": 3
   },
   "file_extension": ".py",
   "mimetype": "text/x-python",
   "name": "python",
   "nbconvert_exporter": "python",
   "pygments_lexer": "ipython3",
   "version": "3.11.6"
  }
 },
 "nbformat": 4,
 "nbformat_minor": 5
}
