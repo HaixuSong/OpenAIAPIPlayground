{
 "cells": [
  {
   "cell_type": "code",
   "execution_count": 1,
   "id": "ddb61ee3-14da-4687-ba85-f26f67f555ad",
   "metadata": {},
   "outputs": [
    {
     "name": "stdout",
     "output_type": "stream",
     "text": [
      "Python 3.11.6\n"
     ]
    }
   ],
   "source": [
    "!python --version"
   ]
  },
  {
   "cell_type": "code",
   "execution_count": null,
   "id": "ca791a4b-a799-430f-8f9c-83b6c5361796",
   "metadata": {},
   "outputs": [],
   "source": []
  },
  {
   "cell_type": "code",
   "execution_count": 2,
   "id": "5bc3db24-3c1a-4ff4-ad79-31faf9c05892",
   "metadata": {},
   "outputs": [],
   "source": [
    "# set openAI API key\n",
    "import os\n",
    "from openai import OpenAI\n",
    "import pprint\n",
    "import json\n",
    "import math\n",
    "from IPython.display import Audio, display\n",
    "from pydub import AudioSegment\n",
    "import io\n",
    "import time\n",
    "import sys\n",
    "from pathlib import Path\n",
    "__file__ = os.path.dirname(os.path.abspath('__file__'))\n",
    "client = OpenAI()"
   ]
  },
  {
   "cell_type": "code",
   "execution_count": 3,
   "id": "bf052993-9709-4d70-89df-f371c8a61823",
   "metadata": {},
   "outputs": [],
   "source": [
    "response = client.audio.speech.create(\n",
    "  model=\"tts-1\",\n",
    "  voice=\"alloy\",\n",
    "  input=\"The quick brown fox jumped over the lazy dog.\"\n",
    ")\n",
    "speech_file_path = Path(__file__) / \"speech.mp3\"\n",
    "response.stream_to_file(speech_file_path)"
   ]
  },
  {
   "cell_type": "markdown",
   "id": "94a03722-84ca-4ac4-ad0f-dcbf3035f56f",
   "metadata": {},
   "source": [
    "#### srt and vtt is like cc transcripts in videos with timestamp on each line"
   ]
  },
  {
   "cell_type": "code",
   "execution_count": 4,
   "id": "c6d4207a-a961-48ce-8ab7-7d5188ee5d31",
   "metadata": {},
   "outputs": [],
   "source": [
    "audio_file = open(\"speech.mp3\", \"rb\")\n",
    "\n",
    "# b_handle = io.BytesIO()\n",
    "# b_handle.write(response.content)\n",
    "# b_handle.seek(0)\n",
    "# audio_file = io.BufferedReader(b_handle)\n",
    "\n",
    "transcript = client.audio.transcriptions.create(\n",
    "  model=\"whisper-1\", \n",
    "  file=audio_file,\n",
    "  response_format=\"srt\"\n",
    ")"
   ]
  },
  {
   "cell_type": "code",
   "execution_count": 5,
   "id": "f5b41eca-8014-405f-afc9-b3926e8a5c94",
   "metadata": {},
   "outputs": [
    {
     "data": {
      "text/plain": [
       "'1\\n00:00:00,000 --> 00:00:02,800\\nThe quick brown fox jumped over the lazy dog.\\n\\n\\n'"
      ]
     },
     "execution_count": 5,
     "metadata": {},
     "output_type": "execute_result"
    }
   ],
   "source": [
    "transcript"
   ]
  },
  {
   "cell_type": "markdown",
   "id": "e271fc76-974f-4c24-bd7c-fb96b43b993e",
   "metadata": {},
   "source": [
    "#### verbose_json has all the details in it"
   ]
  },
  {
   "cell_type": "code",
   "execution_count": 6,
   "id": "15b662ff-56eb-4aec-b0f6-148bd0535e6f",
   "metadata": {},
   "outputs": [],
   "source": [
    "audio_file = open(\"speech.mp3\", \"rb\")\n",
    "transcript = client.audio.transcriptions.create(\n",
    "  model=\"whisper-1\", \n",
    "  file=audio_file,\n",
    "  response_format=\"verbose_json\"\n",
    ")"
   ]
  },
  {
   "cell_type": "code",
   "execution_count": 7,
   "id": "82aaf59f-137a-4db1-8ef6-46268c2d40e2",
   "metadata": {
    "scrolled": true
   },
   "outputs": [
    {
     "data": {
      "text/plain": [
       "{'text': 'The quick brown fox jumped over the lazy dog.',\n",
       " 'task': 'transcribe',\n",
       " 'language': 'english',\n",
       " 'duration': 2.85,\n",
       " 'segments': [{'id': 0,\n",
       "   'seek': 0,\n",
       "   'start': 0.0,\n",
       "   'end': 2.8000000000000003,\n",
       "   'text': ' The quick brown fox jumped over the lazy dog.',\n",
       "   'tokens': [50364,\n",
       "    440,\n",
       "    1702,\n",
       "    6292,\n",
       "    21026,\n",
       "    13864,\n",
       "    670,\n",
       "    264,\n",
       "    14847,\n",
       "    3000,\n",
       "    13,\n",
       "    50504],\n",
       "   'temperature': 0.0,\n",
       "   'avg_logprob': -0.4547843933105469,\n",
       "   'compression_ratio': 0.8653846153846154,\n",
       "   'no_speech_prob': 0.0002566356270108372}]}"
      ]
     },
     "execution_count": 7,
     "metadata": {},
     "output_type": "execute_result"
    }
   ],
   "source": [
    "transcript.model_dump()"
   ]
  },
  {
   "cell_type": "markdown",
   "id": "869126d6-b0a5-42ea-a3b7-c54cdeb602a5",
   "metadata": {},
   "source": [
    "#### text and json are just simple responses"
   ]
  },
  {
   "cell_type": "code",
   "execution_count": 8,
   "id": "130ce3d0-94bb-45b8-a526-b0157c7ba5d3",
   "metadata": {},
   "outputs": [],
   "source": [
    "audio_file = open(\"speech.mp3\", \"rb\")\n",
    "transcript = client.audio.transcriptions.create(\n",
    "  model=\"whisper-1\", \n",
    "  file=audio_file,\n",
    "  response_format=\"text\"\n",
    ")"
   ]
  },
  {
   "cell_type": "code",
   "execution_count": 9,
   "id": "e117d6e5-e4d4-4fe6-a8f8-653b568f7e5a",
   "metadata": {},
   "outputs": [
    {
     "data": {
      "text/plain": [
       "'The quick brown fox jumped over the lazy dog.\\n'"
      ]
     },
     "execution_count": 9,
     "metadata": {},
     "output_type": "execute_result"
    }
   ],
   "source": [
    "transcript"
   ]
  },
  {
   "cell_type": "markdown",
   "id": "b801579d-c53c-4a36-969b-97b38d9903a8",
   "metadata": {},
   "source": [
    "### Talk directly in notebook"
   ]
  },
  {
   "cell_type": "code",
   "execution_count": 16,
   "id": "f17cc31a-970f-4823-823a-53ae8b7f2837",
   "metadata": {},
   "outputs": [
    {
     "data": {
      "application/vnd.jupyter.widget-view+json": {
       "model_id": "34c66b1052d04cd5bd82e47771e8ae27",
       "version_major": 2,
       "version_minor": 0
      },
      "text/plain": [
       "AudioRecorder(audio=Audio(value=b'', format='webm'), stream=CameraStream(constraints={'audio': True, 'video': …"
      ]
     },
     "execution_count": 16,
     "metadata": {},
     "output_type": "execute_result"
    }
   ],
   "source": [
    "from ipywebrtc import AudioRecorder, CameraStream\n",
    "camera = CameraStream(constraints={'audio': True,'video':False})\n",
    "recorder = AudioRecorder(stream=camera)\n",
    "recorder"
   ]
  },
  {
   "cell_type": "code",
   "execution_count": 11,
   "id": "2805e828-3575-44b9-b07c-8f9be809b985",
   "metadata": {},
   "outputs": [],
   "source": [
    "with open('recording.webm', 'wb') as f:\n",
    "    f.write(recorder.audio.value)\n",
    "!ffmpeg -i recording.webm -ac 1 -f wav file.wav -y -hide_banner -loglevel panic"
   ]
  },
  {
   "cell_type": "code",
   "execution_count": 12,
   "id": "28d161b6-1b34-4da7-9c00-30ad0cfecbf7",
   "metadata": {},
   "outputs": [],
   "source": [
    "audio_file = open(\"file.wav\", \"rb\")\n",
    "transcript = client.audio.transcriptions.create(\n",
    "  model=\"whisper-1\", \n",
    "  file=audio_file,\n",
    "  response_format=\"text\"\n",
    ")"
   ]
  },
  {
   "cell_type": "code",
   "execution_count": 14,
   "id": "b2fd1f97-ca6a-4cc4-b7c8-1a661eaf5358",
   "metadata": {},
   "outputs": [
    {
     "data": {
      "text/plain": [
       "'Hi, my name is Jack. How can I help you today?\\n'"
      ]
     },
     "execution_count": 14,
     "metadata": {},
     "output_type": "execute_result"
    }
   ],
   "source": [
    "transcript"
   ]
  },
  {
   "cell_type": "code",
   "execution_count": null,
   "id": "99b361ac-dd47-442b-8290-a2a20347112c",
   "metadata": {},
   "outputs": [],
   "source": []
  }
 ],
 "metadata": {
  "kernelspec": {
   "display_name": "Python 3 (ipykernel)",
   "language": "python",
   "name": "python3"
  },
  "language_info": {
   "codemirror_mode": {
    "name": "ipython",
    "version": 3
   },
   "file_extension": ".py",
   "mimetype": "text/x-python",
   "name": "python",
   "nbconvert_exporter": "python",
   "pygments_lexer": "ipython3",
   "version": "3.11.6"
  }
 },
 "nbformat": 4,
 "nbformat_minor": 5
}
