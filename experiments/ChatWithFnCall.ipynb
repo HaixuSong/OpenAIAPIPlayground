{
 "cells": [
  {
   "cell_type": "code",
   "execution_count": 1,
   "id": "a249033e-fc6b-46b5-9295-7dbafa197199",
   "metadata": {},
   "outputs": [
    {
     "name": "stdout",
     "output_type": "stream",
     "text": [
      "Python 3.11.6\n"
     ]
    }
   ],
   "source": [
    "!python --version"
   ]
  },
  {
   "cell_type": "code",
   "execution_count": 2,
   "id": "d4a759d2-460b-4fc9-b61d-a6efa6a02a05",
   "metadata": {
    "scrolled": true
   },
   "outputs": [
    {
     "name": "stdout",
     "output_type": "stream",
     "text": [
      "Requirement already satisfied: openai in c:\\users\\hitsh\\onedrive\\desktop\\experimentai\\myenv\\lib\\site-packages (1.3.3)\n",
      "Requirement already satisfied: anyio<4,>=3.5.0 in c:\\users\\hitsh\\onedrive\\desktop\\experimentai\\myenv\\lib\\site-packages (from openai) (3.7.1)\n",
      "Requirement already satisfied: distro<2,>=1.7.0 in c:\\users\\hitsh\\onedrive\\desktop\\experimentai\\myenv\\lib\\site-packages (from openai) (1.8.0)\n",
      "Requirement already satisfied: httpx<1,>=0.23.0 in c:\\users\\hitsh\\onedrive\\desktop\\experimentai\\myenv\\lib\\site-packages (from openai) (0.25.1)\n",
      "Requirement already satisfied: pydantic<3,>=1.9.0 in c:\\users\\hitsh\\onedrive\\desktop\\experimentai\\myenv\\lib\\site-packages (from openai) (2.5.1)\n",
      "Requirement already satisfied: tqdm>4 in c:\\users\\hitsh\\onedrive\\desktop\\experimentai\\myenv\\lib\\site-packages (from openai) (4.66.1)\n",
      "Requirement already satisfied: typing-extensions<5,>=4.5 in c:\\users\\hitsh\\onedrive\\desktop\\experimentai\\myenv\\lib\\site-packages (from openai) (4.8.0)\n",
      "Requirement already satisfied: idna>=2.8 in c:\\users\\hitsh\\onedrive\\desktop\\experimentai\\myenv\\lib\\site-packages (from anyio<4,>=3.5.0->openai) (3.4)\n",
      "Requirement already satisfied: sniffio>=1.1 in c:\\users\\hitsh\\onedrive\\desktop\\experimentai\\myenv\\lib\\site-packages (from anyio<4,>=3.5.0->openai) (1.3.0)\n",
      "Requirement already satisfied: certifi in c:\\users\\hitsh\\onedrive\\desktop\\experimentai\\myenv\\lib\\site-packages (from httpx<1,>=0.23.0->openai) (2023.11.17)\n",
      "Requirement already satisfied: httpcore in c:\\users\\hitsh\\onedrive\\desktop\\experimentai\\myenv\\lib\\site-packages (from httpx<1,>=0.23.0->openai) (1.0.2)\n",
      "Requirement already satisfied: annotated-types>=0.4.0 in c:\\users\\hitsh\\onedrive\\desktop\\experimentai\\myenv\\lib\\site-packages (from pydantic<3,>=1.9.0->openai) (0.6.0)\n",
      "Requirement already satisfied: pydantic-core==2.14.3 in c:\\users\\hitsh\\onedrive\\desktop\\experimentai\\myenv\\lib\\site-packages (from pydantic<3,>=1.9.0->openai) (2.14.3)\n",
      "Requirement already satisfied: colorama in c:\\users\\hitsh\\onedrive\\desktop\\experimentai\\myenv\\lib\\site-packages (from tqdm>4->openai) (0.4.6)\n",
      "Requirement already satisfied: h11<0.15,>=0.13 in c:\\users\\hitsh\\onedrive\\desktop\\experimentai\\myenv\\lib\\site-packages (from httpcore->httpx<1,>=0.23.0->openai) (0.14.0)\n"
     ]
    },
    {
     "name": "stderr",
     "output_type": "stream",
     "text": [
      "\n",
      "[notice] A new release of pip is available: 23.2.1 -> 23.3.1\n",
      "[notice] To update, run: python.exe -m pip install --upgrade pip\n"
     ]
    }
   ],
   "source": [
    "!pip install openai"
   ]
  },
  {
   "cell_type": "code",
   "execution_count": 3,
   "id": "b452cab1-cc8b-4fda-b076-205c8e8f1d5a",
   "metadata": {},
   "outputs": [],
   "source": [
    "# set openAI API key\n",
    "import os\n",
    "from openai import OpenAI\n",
    "import pprint\n",
    "import json\n",
    "client = OpenAI()"
   ]
  },
  {
   "cell_type": "code",
   "execution_count": 4,
   "id": "d4a9b296-d2f5-4078-bf9e-62b176f3f2e8",
   "metadata": {},
   "outputs": [],
   "source": [
    "def gptThink(chatConfig, toolMap=None):\n",
    "    # Return new messages\n",
    "    new_messages = []\n",
    "    \n",
    "    # Required parameters\n",
    "    messages = chatConfig.get('messages')\n",
    "    model = chatConfig.get('model')\n",
    "    if messages is None or model is None:\n",
    "        raise ValueError(\"The 'messages' and 'model' parameters are required.\")\n",
    "    \n",
    "    # For demonstration, we'll just print the required parameters and additional ones.\n",
    "    # for key, value in chatConfig.items():\n",
    "    #     print(f\"{key}: {pprint.pformat(value)}\")\n",
    "\n",
    "    response = client.chat.completions.create(**chatConfig)\n",
    "    # print()\n",
    "    # print(\"Response: \" + pprint.pformat(response.model_dump()))\n",
    "    if (response.choices[0].message.content):\n",
    "        print(\"\\nAssistant: \\n\" + response.choices[0].message.content)\n",
    "   \n",
    "    # append the messages but dump the None value in it.\n",
    "    new_messages.append({k: v for k, v in response.choices[0].message.model_dump().items() if v is not None})\n",
    "\n",
    "    # if have tool_calls, start recursive chat\n",
    "    if (response.choices[0].message.tool_calls):\n",
    "        for tool_call in response.choices[0].message.tool_calls:\n",
    "            f = toolMap[tool_call.function.name]\n",
    "            f_args = json.loads(tool_call.function.arguments)\n",
    "            f_res = f(**f_args)\n",
    "            message_obj = {\n",
    "                \"tool_call_id\": tool_call.id,\n",
    "                \"role\": \"tool\",\n",
    "                \"name\": tool_call.function.name,\n",
    "                \"content\": f_res\n",
    "            }\n",
    "            print(f\"\\nfunction calling {tool_call.function.name}({f_args})\\n\" + pprint.pformat(message_obj))\n",
    "            new_messages.append(message_obj)\n",
    "        chatConfig['messages'] = messages + new_messages\n",
    "        # print('chatConfig: ')\n",
    "        # pprint.pprint(chatConfig)\n",
    "        tc_response = gptThink(chatConfig, toolMap)\n",
    "        new_messages = new_messages + tc_response\n",
    "        # print(response.choices[0].message.content)\n",
    "        \n",
    "    return new_messages\n"
   ]
  },
  {
   "cell_type": "code",
   "execution_count": 7,
   "id": "35757c54-79f8-41fe-99d0-880a666a14e9",
   "metadata": {},
   "outputs": [],
   "source": [
    "messages=[\n",
    "    {\"role\": \"system\", \"content\": \"You are a helpful assistant.\"},\n",
    "    {\"role\": \"user\", \"content\": \"Who won the world series in 2020?\"},\n",
    "    {\"role\": \"assistant\", \"content\": \"The Los Angeles Dodgers won the World Series in 2020.\"},\n",
    "    {\"role\": \"user\", \"content\": \"Where was it played?\"}\n",
    "]\n",
    "def get_current_weather(location, unit=\"fahrenheit\"):\n",
    "    return json.dumps({\"location\": \"Tokyo\", \"temperature\": \"10\", \"unit\": \"celsius\"})\n",
    "\n",
    "messages = [{\"role\": \"user\", \"content\": \"What's the weather like in Boston today?\"}]\n",
    "\n",
    "model=\"gpt-4\"\n",
    "tools = [\n",
    "  {\n",
    "    \"type\": \"function\",\n",
    "    \"function\": {\n",
    "      \"name\": \"get_current_weather\",\n",
    "      \"description\": \"Get the current weather in a given location\",\n",
    "      \"parameters\": {\n",
    "        \"type\": \"object\",\n",
    "        \"properties\": {\n",
    "          \"location\": {\n",
    "            \"type\": \"string\",\n",
    "            \"description\": \"The city and state, e.g. San Francisco, CA\",\n",
    "          },\n",
    "          \"unit\": {\"type\": \"string\", \"enum\": [\"celsius\", \"fahrenheit\"]},\n",
    "        },\n",
    "        \"required\": [\"location\"],\n",
    "      }\n",
    "    }\n",
    "  }\n",
    "]"
   ]
  },
  {
   "cell_type": "code",
   "execution_count": 8,
   "id": "4f826d71-9603-48e4-8d2d-23709cb33586",
   "metadata": {
    "scrolled": true
   },
   "outputs": [
    {
     "name": "stdout",
     "output_type": "stream",
     "text": [
      "\n",
      "function calling get_current_weather({'location': 'Boston, MA'})\n",
      "{'content': '{\"location\": \"Tokyo\", \"temperature\": \"10\", \"unit\": \"celsius\"}',\n",
      " 'name': 'get_current_weather',\n",
      " 'role': 'tool',\n",
      " 'tool_call_id': 'call_qT1nnlNdOiOip7ljK6ArIAr0'}\n",
      "\n",
      "Assistant: \n",
      "The current temperature in Boston, MA is 10 degrees Celsius.\n"
     ]
    },
    {
     "data": {
      "text/plain": [
       "[{'role': 'assistant',\n",
       "  'tool_calls': [{'id': 'call_qT1nnlNdOiOip7ljK6ArIAr0',\n",
       "    'function': {'arguments': '{\\n  \"location\": \"Boston, MA\"\\n}',\n",
       "     'name': 'get_current_weather'},\n",
       "    'type': 'function'}]},\n",
       " {'tool_call_id': 'call_qT1nnlNdOiOip7ljK6ArIAr0',\n",
       "  'role': 'tool',\n",
       "  'name': 'get_current_weather',\n",
       "  'content': '{\"location\": \"Tokyo\", \"temperature\": \"10\", \"unit\": \"celsius\"}'},\n",
       " {'content': 'The current temperature in Boston, MA is 10 degrees Celsius.',\n",
       "  'role': 'assistant'}]"
      ]
     },
     "execution_count": 8,
     "metadata": {},
     "output_type": "execute_result"
    }
   ],
   "source": [
    "gptThink({\"messages\":messages, \"model\":model, \"tools\": tools}, {\"get_current_weather\": get_current_weather})"
   ]
  },
  {
   "cell_type": "code",
   "execution_count": null,
   "id": "4d02a4dd-11ef-45f5-9f38-2b3fd6885ee3",
   "metadata": {},
   "outputs": [],
   "source": []
  }
 ],
 "metadata": {
  "kernelspec": {
   "display_name": "Python 3 (ipykernel)",
   "language": "python",
   "name": "python3"
  },
  "language_info": {
   "codemirror_mode": {
    "name": "ipython",
    "version": 3
   },
   "file_extension": ".py",
   "mimetype": "text/x-python",
   "name": "python",
   "nbconvert_exporter": "python",
   "pygments_lexer": "ipython3",
   "version": "3.11.6"
  }
 },
 "nbformat": 4,
 "nbformat_minor": 5
}
