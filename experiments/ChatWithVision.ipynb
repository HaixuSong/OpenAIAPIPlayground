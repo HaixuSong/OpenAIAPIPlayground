{
 "cells": [
  {
   "cell_type": "code",
   "execution_count": null,
   "id": "5da6499a-bae1-4908-bfcb-5c20c4f4449f",
   "metadata": {},
   "outputs": [],
   "source": [
    "!python --version"
   ]
  },
  {
   "cell_type": "code",
   "execution_count": 2,
   "id": "5de03a73-4417-4938-ba09-2831a2a6a108",
   "metadata": {
    "scrolled": true
   },
   "outputs": [
    {
     "name": "stdout",
     "output_type": "stream",
     "text": [
      "Requirement already satisfied: openai in c:\\users\\hitsh\\onedrive\\desktop\\experimentai\\myenv\\lib\\site-packages (1.3.3)\n",
      "Requirement already satisfied: anyio<4,>=3.5.0 in c:\\users\\hitsh\\onedrive\\desktop\\experimentai\\myenv\\lib\\site-packages (from openai) (3.7.1)\n",
      "Requirement already satisfied: distro<2,>=1.7.0 in c:\\users\\hitsh\\onedrive\\desktop\\experimentai\\myenv\\lib\\site-packages (from openai) (1.8.0)\n",
      "Requirement already satisfied: httpx<1,>=0.23.0 in c:\\users\\hitsh\\onedrive\\desktop\\experimentai\\myenv\\lib\\site-packages (from openai) (0.25.1)\n",
      "Requirement already satisfied: pydantic<3,>=1.9.0 in c:\\users\\hitsh\\onedrive\\desktop\\experimentai\\myenv\\lib\\site-packages (from openai) (2.5.1)\n",
      "Requirement already satisfied: tqdm>4 in c:\\users\\hitsh\\onedrive\\desktop\\experimentai\\myenv\\lib\\site-packages (from openai) (4.66.1)\n",
      "Requirement already satisfied: typing-extensions<5,>=4.5 in c:\\users\\hitsh\\onedrive\\desktop\\experimentai\\myenv\\lib\\site-packages (from openai) (4.8.0)\n",
      "Requirement already satisfied: idna>=2.8 in c:\\users\\hitsh\\onedrive\\desktop\\experimentai\\myenv\\lib\\site-packages (from anyio<4,>=3.5.0->openai) (3.4)\n",
      "Requirement already satisfied: sniffio>=1.1 in c:\\users\\hitsh\\onedrive\\desktop\\experimentai\\myenv\\lib\\site-packages (from anyio<4,>=3.5.0->openai) (1.3.0)\n",
      "Requirement already satisfied: certifi in c:\\users\\hitsh\\onedrive\\desktop\\experimentai\\myenv\\lib\\site-packages (from httpx<1,>=0.23.0->openai) (2023.11.17)\n",
      "Requirement already satisfied: httpcore in c:\\users\\hitsh\\onedrive\\desktop\\experimentai\\myenv\\lib\\site-packages (from httpx<1,>=0.23.0->openai) (1.0.2)\n",
      "Requirement already satisfied: annotated-types>=0.4.0 in c:\\users\\hitsh\\onedrive\\desktop\\experimentai\\myenv\\lib\\site-packages (from pydantic<3,>=1.9.0->openai) (0.6.0)\n",
      "Requirement already satisfied: pydantic-core==2.14.3 in c:\\users\\hitsh\\onedrive\\desktop\\experimentai\\myenv\\lib\\site-packages (from pydantic<3,>=1.9.0->openai) (2.14.3)\n",
      "Requirement already satisfied: colorama in c:\\users\\hitsh\\onedrive\\desktop\\experimentai\\myenv\\lib\\site-packages (from tqdm>4->openai) (0.4.6)\n",
      "Requirement already satisfied: h11<0.15,>=0.13 in c:\\users\\hitsh\\onedrive\\desktop\\experimentai\\myenv\\lib\\site-packages (from httpcore->httpx<1,>=0.23.0->openai) (0.14.0)\n"
     ]
    },
    {
     "name": "stderr",
     "output_type": "stream",
     "text": [
      "\n",
      "[notice] A new release of pip is available: 23.2.1 -> 23.3.1\n",
      "[notice] To update, run: python.exe -m pip install --upgrade pip\n"
     ]
    }
   ],
   "source": [
    "!pip install openai"
   ]
  },
  {
   "cell_type": "code",
   "execution_count": 13,
   "id": "a50ca7a3-7786-4933-a12b-7be7412b482d",
   "metadata": {},
   "outputs": [],
   "source": [
    "# set openAI API key\n",
    "import os\n",
    "from openai import OpenAI\n",
    "import pprint\n",
    "import json\n",
    "import math\n",
    "client = OpenAI()"
   ]
  },
  {
   "cell_type": "code",
   "execution_count": 27,
   "id": "949a1640-efb8-4575-81f4-ac35facd45f3",
   "metadata": {},
   "outputs": [],
   "source": [
    "def gptSee(chatConfig, toolMap=None):\n",
    "    # Return new messages\n",
    "    new_messages = []\n",
    "    \n",
    "    # Required parameters\n",
    "    messages = chatConfig.get('messages')\n",
    "    model = chatConfig.get('model')\n",
    "    if messages is None or model is None:\n",
    "        raise ValueError(\"The 'messages' and 'model' parameters are required.\")\n",
    "    \n",
    "\n",
    "    response = client.chat.completions.create(**chatConfig)\n",
    "    # print()\n",
    "    # print(\"\\nResponse: \\n\" + pprint.pformat(response.model_dump()))\n",
    "    if (response.choices[0].message.content):\n",
    "        print(\"\\nAssistant: \\n\" + response.choices[0].message.content)\n",
    "   \n",
    "    # append the messages but dump the None value in it.\n",
    "    new_messages.append({k: v for k, v in response.choices[0].message.model_dump().items() if v is not None})\n",
    "        \n",
    "    return new_messages\n"
   ]
  },
  {
   "cell_type": "code",
   "execution_count": 28,
   "id": "7263d8b3-19e5-46de-a860-5562d469499f",
   "metadata": {},
   "outputs": [],
   "source": [
    "messages = [\n",
    "    {\n",
    "      \"role\": \"user\",\n",
    "      \"content\": [\n",
    "        {\"type\": \"text\", \"text\": \"What’s in this image?\"},\n",
    "        {\n",
    "          \"type\": \"image_url\",\n",
    "          \"image_url\": {\n",
    "            \"url\": \"https://99designs-blog.imgix.net/blog/wp-content/uploads/2016/03/web-images.jpg?auto=format&q=60&w=1600&h=824&fit=crop&crop=faces\"\n",
    "          },\n",
    "        },\n",
    "      ],\n",
    "    }    \n",
    "]\n",
    "model=\"gpt-4-vision-preview\""
   ]
  },
  {
   "cell_type": "code",
   "execution_count": 29,
   "id": "ff196e05-a17a-4027-b6a2-e42d7354ba6c",
   "metadata": {
    "scrolled": true
   },
   "outputs": [
    {
     "name": "stdout",
     "output_type": "stream",
     "text": [
      "\n",
      "Assistant: \n",
      "The image is a creative and whimsical digitally altered artwork showing a panda's head on a fish's body, swimming underwater among several other fish with similar panda-fish appearances. The artwork is designed to blend the distinctive black and white features of a panda bear with the bodies of fish, creating a fantasy-like hybrid animal. The scene is set underwater, with a slightly murky greenish-blue backdrop suggesting depth in the ocean environment.\n"
     ]
    },
    {
     "data": {
      "text/plain": [
       "[{'content': \"The image is a creative and whimsical digitally altered artwork showing a panda's head on a fish's body, swimming underwater among several other fish with similar panda-fish appearances. The artwork is designed to blend the distinctive black and white features of a panda bear with the bodies of fish, creating a fantasy-like hybrid animal. The scene is set underwater, with a slightly murky greenish-blue backdrop suggesting depth in the ocean environment.\",\n",
       "  'role': 'assistant'}]"
      ]
     },
     "execution_count": 29,
     "metadata": {},
     "output_type": "execute_result"
    }
   ],
   "source": [
    "gptSee({\"messages\":messages, \"model\":model, \"max_tokens\": 4096})"
   ]
  },
  {
   "cell_type": "code",
   "execution_count": 23,
   "id": "5b0b4b8d-87e5-4d3e-a992-e8fc1d991d5c",
   "metadata": {},
   "outputs": [],
   "source": [
    "tools = [\n",
    "  {\n",
    "    \"type\": \"function\",\n",
    "    \"function\": {\n",
    "      \"name\": \"report_to_user\",\n",
    "      \"description\": \"Report to user what animal is in the picture\",\n",
    "      \"parameters\": {\n",
    "        \"type\": \"object\",\n",
    "        \"properties\": {\n",
    "          \"animal\": {\n",
    "            \"type\": \"string\",\n",
    "            \"description\": \"The animal in the picture, e.g. Pig\",\n",
    "          }\n",
    "        },\n",
    "        \"required\": [\"animal\"],\n",
    "      }\n",
    "    }\n",
    "  }\n",
    "]\n",
    "\n",
    "messages = [\n",
    "    {\n",
    "      \"role\": \"user\",\n",
    "      \"content\": [\n",
    "        {\"type\": \"text\", \"text\": \"What’s in this image? If this image has an animal, report the user what animal is in the pic by function calling\"},\n",
    "        {\n",
    "          \"type\": \"image_url\",\n",
    "          \"image_url\": {\n",
    "            \"url\": \"https://99designs-blog.imgix.net/blog/wp-content/uploads/2016/03/web-images.jpg?auto=format&q=60&w=1600&h=824&fit=crop&crop=faces\"\n",
    "          },\n",
    "        },\n",
    "      ],\n",
    "    }    \n",
    "]\n",
    "model=\"gpt-4-vision-preview\"\n",
    "def report_to_user(animal):\n",
    "    return {'report_success': True}"
   ]
  },
  {
   "cell_type": "markdown",
   "id": "d4c4f503-b7ae-4268-a273-7aa928ec99dc",
   "metadata": {},
   "source": [
    "# Currently GPT4Vision does not support tools/functions"
   ]
  },
  {
   "cell_type": "code",
   "execution_count": null,
   "id": "1211cdfb-fdce-486a-a634-63d164dd663a",
   "metadata": {},
   "outputs": [],
   "source": []
  }
 ],
 "metadata": {
  "kernelspec": {
   "display_name": "Python 3 (ipykernel)",
   "language": "python",
   "name": "python3"
  },
  "language_info": {
   "codemirror_mode": {
    "name": "ipython",
    "version": 3
   },
   "file_extension": ".py",
   "mimetype": "text/x-python",
   "name": "python",
   "nbconvert_exporter": "python",
   "pygments_lexer": "ipython3",
   "version": "3.11.6"
  }
 },
 "nbformat": 4,
 "nbformat_minor": 5
}
